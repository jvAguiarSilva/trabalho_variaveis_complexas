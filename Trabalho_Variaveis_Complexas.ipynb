{
  "cells": [
    {
      "cell_type": "markdown",
      "id": "853471e5",
      "metadata": {
        "id": "853471e5"
      },
      "source": [
        "## Séries de Potência"
      ]
    },
    {
      "cell_type": "markdown",
      "id": "840ac6d2",
      "metadata": {
        "id": "840ac6d2"
      },
      "source": [
        "<script type=\"text/javascript\" src=\"http://cdn.mathjax.org/mathjax/latest/MathJax.js?config=default\"></script>\n",
        "$$ \t\\sum_{n=0}^{\\infty} C_{n}\\cdot(x-a)^n $$\n",
        "1. Converge apenas para $x = a$;\n",
        "2. Converge em um intervalo aberto ou fechado;\n",
        "3. Converge absolutamente em $R$;"
      ]
    },
    {
      "cell_type": "markdown",
      "id": "1edfb1e7",
      "metadata": {
        "id": "1edfb1e7"
      },
      "source": [
        "## Séries de Potência de números complexos"
      ]
    },
    {
      "cell_type": "markdown",
      "id": "8b91b614",
      "metadata": {
        "id": "8b91b614"
      },
      "source": [
        "<script type=\"text/javascript\" src=\"http://cdn.mathjax.org/mathjax/latest/MathJax.js?config=default\"></script>\n",
        "$$ \\sum_{n=0}^{\\infty} a_{n}\\cdot(z-z_{0})^n $$\n",
        "1) só converge em $z = z_{0}$;\\\n",
        "2) existe um $r > 0$ tal que $\\vert z-z_{0} \\vert < r$ a série converge absolutamente e se $0 ≤ r < r'$, a convergência é uniforme no disco fechado  $D_{r'} =\\left \\{ z;\\vert z-z_{0} \\vert ≤ r' \\right \\}$. Além do mais, se $\\vert z-z_{0} \\vert > r$ a série diverge;\\\n",
        "3) a série converge absolutamente para todo $z \\in \\mathbb{C}$ e uniformemente em todo disco fechado $D_{r'} =\\left \\{ z;\\vert za-z_{0} \\vert ≤ r' \\right \\}$."
      ]
    },
    {
      "cell_type": "code",
      "execution_count": null,
      "id": "18a44eaf",
      "metadata": {
        "id": "18a44eaf"
      },
      "outputs": [],
      "source": [
        "from sympy import *\n",
        "import numpy as np\n",
        "from sympy.solvers.inequalities import reduce_inequalities\n",
        "import re\n",
        "import math\n",
        "import matplotlib.pyplot as plt\n",
        "plt.style.use(\"ggplot\")\n",
        "%matplotlib inline"
      ]
    },
    {
      "cell_type": "code",
      "execution_count": null,
      "id": "e79c6934",
      "metadata": {
        "id": "e79c6934"
      },
      "outputs": [],
      "source": [
        "n, i, z = symbols('n i z')\n",
        "i = sqrt(-1)\n",
        "init_printing(use_unicode=True)"
      ]
    },
    {
      "cell_type": "code",
      "execution_count": null,
      "id": "3483b42a",
      "metadata": {
        "id": "3483b42a"
      },
      "outputs": [],
      "source": [
        "zn1 = \"(z-3)**n/n\"\n",
        "zn2 = '(z/2)**n'\n",
        "zn3 = '(-1)**n*z**n/n'\n",
        "zn4 = 'z**n/factorial(n)'\n",
        "zn5 = 'factorial(2*n)*((z+9)/2)**n'\n",
        "zn6 = '(-1)**(n+1)*(z-5)**n/(n*5**n)'\n",
        "zn7 = '(-1)**(n+1)*(z-1)**(n+1)/(n+1)'\n",
        "zn8 = 'n*(-2*z)**(n-1)/(n+1)'\n",
        "zn9 = 'z**(2*n+1)/factorial(2*n+1)'"
      ]
    },
    {
      "cell_type": "code",
      "execution_count": null,
      "id": "40fb4f1e",
      "metadata": {
        "colab": {
          "base_uri": "https://localhost:8080/",
          "height": 66
        },
        "id": "40fb4f1e",
        "outputId": "d7976262-a184-40dc-d3b5-dbdcb264b30a"
      },
      "outputs": [
        {
          "output_type": "execute_result",
          "data": {
            "image/png": "[encoded data removed]",
            "text/latex": "$\\displaystyle \\sum_{n=1}^{\\infty} \\frac{\\left(z - 3\\right)^{n}}{n}$",
            "text/plain": [
              "  ∞           \n",
              " ____         \n",
              " ╲            \n",
              "  ╲          n\n",
              "   ╲  (z - 3) \n",
              "   ╱  ────────\n",
              "  ╱      n    \n",
              " ╱            \n",
              " ‾‾‾‾         \n",
              "n = 1         "
            ]
          },
          "metadata": {},
          "execution_count": 4
        }
      ],
      "source": [
        "Sum(eval(zn1), (n, 1, oo))"
      ]
    },
    {
      "cell_type": "markdown",
      "id": "30f7b576",
      "metadata": {
        "id": "30f7b576"
      },
      "source": [
        "### Teste da razão"
      ]
    },
    {
      "cell_type": "markdown",
      "id": "b4cf3a06",
      "metadata": {
        "id": "b4cf3a06"
      },
      "source": [
        "<script type=\"text/javascript\" src=\"http://cdn.mathjax.org/mathjax/latest/MathJax.js?config=default\"></script>\n",
        "Seja a série de potências:\n",
        "$ \\sum_{n=0}^{\\infty} a_{n}\\cdot(z-z_{0})^n $\n",
        "\\\n",
        "Fazendo $\\lim_{n \\to \\infty} {|a_{n+1}| \\over |a_n|} = L $ se:\n",
        "* $L < 1$ a série é absolutamente convergente (portanto convergente);\n",
        "* $L>1$ ou $L=\\infty$ ou $L=1^{+}$, a série é divergente;\n",
        "*$L=1$, o teste é inconclusivo."
      ]
    },
    {
      "cell_type": "markdown",
      "id": "0891f84d",
      "metadata": {
        "id": "0891f84d"
      },
      "source": [
        "Quais valores de z, onde a série converge?"
      ]
    },
    {
      "cell_type": "code",
      "execution_count": null,
      "id": "b09cafbd",
      "metadata": {
        "colab": {
          "base_uri": "https://localhost:8080/",
          "height": 66
        },
        "id": "b09cafbd",
        "outputId": "e36ff60f-8c31-44f5-e0b7-4b5a5a751aa3"
      },
      "outputs": [
        {
          "output_type": "execute_result",
          "data": {
            "image/png": "[encoded data removed]",
            "text/latex": "$\\displaystyle \\sum_{n=1}^{\\infty} \\frac{\\left(z - 3\\right)^{n}}{n}$",
            "text/plain": [
              "  ∞           \n",
              " ____         \n",
              " ╲            \n",
              "  ╲          n\n",
              "   ╲  (z - 3) \n",
              "   ╱  ────────\n",
              "  ╱      n    \n",
              " ╱            \n",
              " ‾‾‾‾         \n",
              "n = 1         "
            ]
          },
          "metadata": {},
          "execution_count": 5
        }
      ],
      "source": [
        "zn1_ = zn1.replace('n','(n+1)') \n",
        "Sum(eval(zn1), (n, 1, oo))"
      ]
    },
    {
      "cell_type": "code",
      "execution_count": null,
      "id": "916aa9ab",
      "metadata": {
        "colab": {
          "base_uri": "https://localhost:8080/",
          "height": 58
        },
        "id": "916aa9ab",
        "outputId": "20b81324-e772-4129-b595-b01efd1852dd"
      },
      "outputs": [
        {
          "output_type": "execute_result",
          "data": {
            "image/png": "[encoded data removed]",
            "text/latex": "$\\displaystyle \\left|{\\frac{n \\left(z - 3\\right)}{n + 1}}\\right|$",
            "text/plain": [
              "│n⋅(z - 3)│\n",
              "│─────────│\n",
              "│  n + 1  │"
            ]
          },
          "metadata": {},
          "execution_count": 6
        }
      ],
      "source": [
        "expr1 = eval(zn1)\n",
        "expr2 = eval(zn1_)\n",
        "teste_razao = simplify(abs(expr2/expr1))\n",
        "teste_razao"
      ]
    },
    {
      "cell_type": "code",
      "execution_count": null,
      "id": "4f767388",
      "metadata": {
        "colab": {
          "base_uri": "https://localhost:8080/",
          "height": 39
        },
        "id": "4f767388",
        "outputId": "f94e93cd-3b95-4f8c-f6ef-0bfecdb77c1d"
      },
      "outputs": [
        {
          "output_type": "execute_result",
          "data": {
            "image/png": "[encoded data removed]",
            "text/latex": "$\\displaystyle \\left|{z - 3}\\right|$",
            "text/plain": [
              "│z - 3│"
            ]
          },
          "metadata": {},
          "execution_count": 7
        }
      ],
      "source": [
        "lim =  limit(teste_razao, n, oo)\n",
        "lim"
      ]
    },
    {
      "cell_type": "code",
      "execution_count": null,
      "id": "f80b7b57",
      "metadata": {
        "colab": {
          "base_uri": "https://localhost:8080/",
          "height": 39
        },
        "id": "f80b7b57",
        "outputId": "a3ea020b-ce9e-45da-e5a5-2b0570b9a852"
      },
      "outputs": [
        {
          "output_type": "execute_result",
          "data": {
            "image/png": "[encoded data removed]",
            "text/latex": "$\\displaystyle \\left|{z - 3}\\right| < 1$",
            "text/plain": [
              "│z - 3│ < 1"
            ]
          },
          "metadata": {},
          "execution_count": 8
        }
      ],
      "source": [
        "lim = eval('1 > '+ str(lim))\n",
        "lim"
      ]
    },
    {
      "cell_type": "code",
      "execution_count": null,
      "id": "3436517a",
      "metadata": {
        "colab": {
          "base_uri": "https://localhost:8080/",
          "height": 35
        },
        "id": "3436517a",
        "outputId": "44e131a4-de3d-4abb-9b93-737cc15bd7b6"
      },
      "outputs": [
        {
          "output_type": "execute_result",
          "data": {
            "application/vnd.google.colaboratory.intrinsic+json": {
              "type": "string"
            },
            "text/plain": [
              "'(2 < z) & (z < 4)'"
            ]
          },
          "metadata": {},
          "execution_count": 9
        }
      ],
      "source": [
        "inequacao = str(reduce_inequalities(lim, [z]))\n",
        "inequacao"
      ]
    },
    {
      "cell_type": "markdown",
      "id": "2eb79e1b",
      "metadata": {
        "id": "2eb79e1b"
      },
      "source": [
        "Quando a série converge para quaisquer valor de z."
      ]
    },
    {
      "cell_type": "code",
      "execution_count": null,
      "id": "9b5f1c5e",
      "metadata": {
        "colab": {
          "base_uri": "https://localhost:8080/",
          "height": 66
        },
        "id": "9b5f1c5e",
        "outputId": "1db3c045-b131-4c48-8918-a46985566776"
      },
      "outputs": [
        {
          "output_type": "execute_result",
          "data": {
            "image/png": "[encoded data removed]",
            "text/latex": "$\\displaystyle \\sum_{n=0}^{\\infty} \\frac{z^{n}}{n!}$",
            "text/plain": [
              "  ∞     \n",
              " ____   \n",
              " ╲      \n",
              "  ╲    n\n",
              "   ╲  z \n",
              "   ╱  ──\n",
              "  ╱   n!\n",
              " ╱      \n",
              " ‾‾‾‾   \n",
              "n = 0   "
            ]
          },
          "metadata": {},
          "execution_count": 10
        }
      ],
      "source": [
        "zn4_ = zn4.replace('n','(n+1)') \n",
        "Sum(eval(zn4), (n, 0, oo))"
      ]
    },
    {
      "cell_type": "code",
      "execution_count": null,
      "id": "3f4bb59b",
      "metadata": {
        "colab": {
          "base_uri": "https://localhost:8080/",
          "height": 58
        },
        "id": "3f4bb59b",
        "outputId": "83f791e2-a975-4973-9437-a4b015add4fd"
      },
      "outputs": [
        {
          "output_type": "execute_result",
          "data": {
            "image/png": "[encoded data removed]",
            "text/latex": "$\\displaystyle \\left|{\\frac{z}{n + 1}}\\right|$",
            "text/plain": [
              "│  z  │\n",
              "│─────│\n",
              "│n + 1│"
            ]
          },
          "metadata": {},
          "execution_count": 11
        }
      ],
      "source": [
        "expr1 = eval(zn4)\n",
        "expr2 = eval(zn4_)\n",
        "teste_razao = simplify(abs(expr2/expr1))\n",
        "teste_razao"
      ]
    },
    {
      "cell_type": "code",
      "execution_count": null,
      "id": "37b93c9b",
      "metadata": {
        "colab": {
          "base_uri": "https://localhost:8080/",
          "height": 38
        },
        "id": "37b93c9b",
        "outputId": "8c9db5da-c161-4e30-945d-8f9258e09ba4"
      },
      "outputs": [
        {
          "output_type": "execute_result",
          "data": {
            "image/png": "[encoded data removed]",
            "text/latex": "$\\displaystyle 0$",
            "text/plain": [
              "0"
            ]
          },
          "metadata": {},
          "execution_count": 12
        }
      ],
      "source": [
        "lim =  limit(teste_razao, n, oo) # Não importa o valor de z, como 0 < 1, coverge para todo z c C\n",
        "lim"
      ]
    },
    {
      "cell_type": "markdown",
      "id": "39630de4",
      "metadata": {
        "id": "39630de4"
      },
      "source": [
        "<script type=\"text/javascript\" src=\"http://cdn.mathjax.org/mathjax/latest/MathJax.js?config=default\"></script>\n",
        "Quando a série converge somente para $z = z_0$"
      ]
    },
    {
      "cell_type": "code",
      "execution_count": null,
      "id": "a60565fa",
      "metadata": {
        "colab": {
          "base_uri": "https://localhost:8080/",
          "height": 66
        },
        "id": "a60565fa",
        "outputId": "8aba0ad3-d2ab-4c0f-ce6c-211153501cf4"
      },
      "outputs": [
        {
          "output_type": "execute_result",
          "data": {
            "image/png": "[encoded data removed]",
            "text/latex": "$\\displaystyle \\sum_{n=0}^{\\infty} \\left(\\frac{z}{2} + \\frac{9}{2}\\right)^{n} \\left(2 n\\right)!$",
            "text/plain": [
              "  ∞                  \n",
              " ____                \n",
              " ╲                   \n",
              "  ╲          n       \n",
              "   ╲  ⎛z   9⎞        \n",
              "   ╱  ⎜─ + ─⎟ ⋅(2⋅n)!\n",
              "  ╱   ⎝2   2⎠        \n",
              " ╱                   \n",
              " ‾‾‾‾                \n",
              "n = 0                "
            ]
          },
          "metadata": {},
          "execution_count": 13
        }
      ],
      "source": [
        "zn5_ = zn5.replace('n','(n+1)') \n",
        "Sum(eval(zn5), (n, 0, oo))"
      ]
    },
    {
      "cell_type": "code",
      "execution_count": null,
      "id": "88855e51",
      "metadata": {
        "colab": {
          "base_uri": "https://localhost:8080/",
          "height": 39
        },
        "id": "88855e51",
        "outputId": "3b2eea6c-e6bd-49a0-ce48-5e4820bef825"
      },
      "outputs": [
        {
          "output_type": "execute_result",
          "data": {
            "image/png": "[encoded data removed]",
            "text/latex": "$\\displaystyle \\left|{\\left(n + 1\\right) \\left(2 n + 1\\right) \\left(z + 9\\right)}\\right|$",
            "text/plain": [
              "│(n + 1)⋅(2⋅n + 1)⋅(z + 9)│"
            ]
          },
          "metadata": {},
          "execution_count": 14
        }
      ],
      "source": [
        "expr1 = eval(zn5)\n",
        "expr2 = expr2 = eval(zn5_)\n",
        "teste_razao = simplify(abs(expr2/expr1))\n",
        "teste_razao"
      ]
    },
    {
      "cell_type": "code",
      "execution_count": null,
      "id": "c9485e49",
      "metadata": {
        "colab": {
          "base_uri": "https://localhost:8080/",
          "height": 39
        },
        "id": "c9485e49",
        "outputId": "b79d3d1c-537c-4036-97ec-708894dccf1d"
      },
      "outputs": [
        {
          "output_type": "execute_result",
          "data": {
            "image/png": "[encoded data removed]",
            "text/latex": "$\\displaystyle \\infty \\operatorname{sign}{\\left(\\left|{z + 9}\\right| \\right)}$",
            "text/plain": [
              "∞⋅sign(│z + 9│)"
            ]
          },
          "metadata": {},
          "execution_count": 15
        }
      ],
      "source": [
        "lim =  limit(teste_razao, n, oo) # Ùnico valor em que a série converge é quando z = z0\n",
        "lim"
      ]
    },
    {
      "cell_type": "code",
      "execution_count": null,
      "id": "f2a84bba",
      "metadata": {
        "id": "f2a84bba"
      },
      "outputs": [],
      "source": [
        "list_series = [zn1,zn2,zn3,zn4,zn5,zn6,zn7,zn8,zn9]"
      ]
    },
    {
      "cell_type": "markdown",
      "id": "65690509",
      "metadata": {
        "id": "65690509"
      },
      "source": [
        "### Função - Raio de conergência"
      ]
    },
    {
      "cell_type": "code",
      "execution_count": null,
      "id": "a6e2a98f",
      "metadata": {
        "id": "a6e2a98f"
      },
      "outputs": [],
      "source": [
        "def intervalo_convergencia(zn):\n",
        "    # encontrando z(n+1)\n",
        "    zn1 = zn.replace('n','(n+1)') \n",
        "    # Tranformando em expressõe matemáticas\n",
        "    expr1 = eval(zn) \n",
        "    expr2 = eval(zn1)\n",
        "    # Aplicamdo o teste da razão\n",
        "    teste_razao = simplify(abs(expr2/expr1))\n",
        "    lim =  limit(teste_razao, n, oo)\n",
        "    if str(lim) == '0':\n",
        "        return '0' # Ou seja, converge para todo z pertencente aos complexos\n",
        "    elif str(lim)[0:2] == 'oo':\n",
        "        z0 = re.findall(r'-?\\d+', str(lim))\n",
        "        return z0\n",
        "    else:\n",
        "        inequacao = eval('1 > '+ str(lim))\n",
        "        inequacao = str(reduce_inequalities(inequacao, [z]))\n",
        "        intervalo = re.findall(r'-?\\d+\\W?\\d*', inequacao) # ReGex\n",
        "        if len(intervalo[1]) != 1:\n",
        "            intervalo[1] = intervalo[1].replace(')','') # gambiarra para retirar o parênteze que as vezes atrapalha\n",
        "        return intervalo\n",
        "    \n",
        "    "
      ]
    },
    {
      "cell_type": "code",
      "execution_count": null,
      "id": "1356e2f2",
      "metadata": {
        "id": "1356e2f2"
      },
      "outputs": [],
      "source": [
        "def raio_convergencia(zn, start=0):\n",
        "    display(Sum(eval(zn), (n, start, oo)))\n",
        "    resultado = intervalo_convergencia(zn)\n",
        "    if resultado == '0':\n",
        "        print('Raio de convergência é igual à infinito. Converge para todo z c C')\n",
        "    elif len(resultado) < 2:\n",
        "        if len(resultado) == 0:\n",
        "            print('Raio de convergência é 0. Quando Z - Z0 = 0.\\nNeste caso z = 0')\n",
        "        else:  \n",
        "            print('Raio de convergência é 0. Quando Z - Z0 = 0.\\nNeste caso z ={}'.format(-(float(resultado[0]))))\n",
        "    else:\n",
        "        a = resultado[0]\n",
        "        b = resultado[1]\n",
        "        print('Raio de convergência está contido no intervalo [{},{}].'.format(a,b))\n",
        "        "
      ]
    },
    {
      "cell_type": "code",
      "execution_count": null,
      "id": "f59e78db",
      "metadata": {
        "colab": {
          "base_uri": "https://localhost:8080/",
          "height": 809
        },
        "id": "f59e78db",
        "outputId": "4b314669-a698-4aa1-f05d-5dc98ca193ee"
      },
      "outputs": [
        {
          "output_type": "stream",
          "name": "stdout",
          "text": [
            "----------------------------------------------------------------------------------------------------\n"
          ]
        },
        {
          "output_type": "display_data",
          "data": {
            "image/png": "[encoded data removed]",
            "text/latex": "$\\displaystyle \\sum_{n=0}^{\\infty} \\frac{\\left(z - 3\\right)^{n}}{n}$",
            "text/plain": [
              "  ∞           \n",
              " ____         \n",
              " ╲            \n",
              "  ╲          n\n",
              "   ╲  (z - 3) \n",
              "   ╱  ────────\n",
              "  ╱      n    \n",
              " ╱            \n",
              " ‾‾‾‾         \n",
              "n = 0         "
            ]
          },
          "metadata": {}
        },
        {
          "output_type": "stream",
          "name": "stdout",
          "text": [
            "Raio de convergência está contido no intervalo [2 ,4].\n",
            "----------------------------------------------------------------------------------------------------\n"
          ]
        },
        {
          "output_type": "display_data",
          "data": {
            "image/png": "[encoded data removed]",
            "text/latex": "$\\displaystyle \\sum_{n=0}^{\\infty} \\left(\\frac{z}{2}\\right)^{n}$",
            "text/plain": [
              "  ∞       \n",
              " ____     \n",
              " ╲        \n",
              "  ╲      n\n",
              "   ╲  ⎛z⎞ \n",
              "   ╱  ⎜─⎟ \n",
              "  ╱   ⎝2⎠ \n",
              " ╱        \n",
              " ‾‾‾‾     \n",
              "n = 0     "
            ]
          },
          "metadata": {}
        },
        {
          "output_type": "stream",
          "name": "stdout",
          "text": [
            "Raio de convergência está contido no intervalo [-2 ,2].\n",
            "----------------------------------------------------------------------------------------------------\n"
          ]
        },
        {
          "output_type": "display_data",
          "data": {
            "image/png": "[encoded data removed]",
            "text/latex": "$\\displaystyle \\sum_{n=0}^{\\infty} \\frac{\\left(-1\\right)^{n} z^{n}}{n}$",
            "text/plain": [
              "  ∞           \n",
              " ____         \n",
              " ╲            \n",
              "  ╲       n  n\n",
              "   ╲  (-1) ⋅z \n",
              "   ╱  ────────\n",
              "  ╱      n    \n",
              " ╱            \n",
              " ‾‾‾‾         \n",
              "n = 0         "
            ]
          },
          "metadata": {}
        },
        {
          "output_type": "stream",
          "name": "stdout",
          "text": [
            "Raio de convergência está contido no intervalo [-1 ,1].\n",
            "----------------------------------------------------------------------------------------------------\n"
          ]
        },
        {
          "output_type": "display_data",
          "data": {
            "image/png": "[encoded data removed]",
            "text/latex": "$\\displaystyle \\sum_{n=0}^{\\infty} \\frac{z^{n}}{n!}$",
            "text/plain": [
              "  ∞     \n",
              " ____   \n",
              " ╲      \n",
              "  ╲    n\n",
              "   ╲  z \n",
              "   ╱  ──\n",
              "  ╱   n!\n",
              " ╱      \n",
              " ‾‾‾‾   \n",
              "n = 0   "
            ]
          },
          "metadata": {}
        },
        {
          "output_type": "stream",
          "name": "stdout",
          "text": [
            "Raio de convergência é igual à infinito. Converge para todo z c C\n",
            "----------------------------------------------------------------------------------------------------\n"
          ]
        },
        {
          "output_type": "display_data",
          "data": {
            "image/png": "[encoded data removed]",
            "text/latex": "$\\displaystyle \\sum_{n=0}^{\\infty} \\left(\\frac{z}{2} + \\frac{9}{2}\\right)^{n} \\left(2 n\\right)!$",
            "text/plain": [
              "  ∞                  \n",
              " ____                \n",
              " ╲                   \n",
              "  ╲          n       \n",
              "   ╲  ⎛z   9⎞        \n",
              "   ╱  ⎜─ + ─⎟ ⋅(2⋅n)!\n",
              "  ╱   ⎝2   2⎠        \n",
              " ╱                   \n",
              " ‾‾‾‾                \n",
              "n = 0                "
            ]
          },
          "metadata": {}
        },
        {
          "output_type": "stream",
          "name": "stdout",
          "text": [
            "Raio de convergência é 0. Quando Z - Z0 = 0.\n",
            "Neste caso z =-9.0\n",
            "----------------------------------------------------------------------------------------------------\n"
          ]
        },
        {
          "output_type": "display_data",
          "data": {
            "image/png": "[encoded data removed]",
            "text/latex": "$\\displaystyle \\sum_{n=0}^{\\infty} \\frac{\\left(-1\\right)^{n + 1} \\cdot 5^{- n} \\left(z - 5\\right)^{n}}{n}$",
            "text/plain": [
              "  ∞                         \n",
              " ____                       \n",
              " ╲                          \n",
              "  ╲       n + 1  -n        n\n",
              "   ╲  (-1)     ⋅5  ⋅(z - 5) \n",
              "   ╱  ──────────────────────\n",
              "  ╱             n           \n",
              " ╱                          \n",
              " ‾‾‾‾                       \n",
              "n = 0                       "
            ]
          },
          "metadata": {}
        },
        {
          "output_type": "stream",
          "name": "stdout",
          "text": [
            "Raio de convergência está contido no intervalo [0 ,10].\n",
            "----------------------------------------------------------------------------------------------------\n"
          ]
        },
        {
          "output_type": "display_data",
          "data": {
            "image/png": "[encoded data removed]",
            "text/latex": "$\\displaystyle \\sum_{n=0}^{\\infty} \\frac{\\left(-1\\right)^{n + 1} \\left(z - 1\\right)^{n + 1}}{n + 1}$",
            "text/plain": [
              "  ∞                         \n",
              " ____                       \n",
              " ╲                          \n",
              "  ╲       n + 1        n + 1\n",
              "   ╲  (-1)     ⋅(z - 1)     \n",
              "   ╱  ──────────────────────\n",
              "  ╱           n + 1         \n",
              " ╱                          \n",
              " ‾‾‾‾                       \n",
              "n = 0                       "
            ]
          },
          "metadata": {}
        },
        {
          "output_type": "stream",
          "name": "stdout",
          "text": [
            "Raio de convergência está contido no intervalo [0 ,2].\n",
            "----------------------------------------------------------------------------------------------------\n"
          ]
        },
        {
          "output_type": "display_data",
          "data": {
            "image/png": "[encoded data removed]",
            "text/latex": "$\\displaystyle \\sum_{n=0}^{\\infty} \\frac{n \\left(- 2 z\\right)^{n - 1}}{n + 1}$",
            "text/plain": [
              "  ∞                \n",
              " ____              \n",
              " ╲                 \n",
              "  ╲           n - 1\n",
              "   ╲  n⋅(-2⋅z)     \n",
              "   ╱  ─────────────\n",
              "  ╱       n + 1    \n",
              " ╱                 \n",
              " ‾‾‾‾              \n",
              "n = 0              "
            ]
          },
          "metadata": {}
        },
        {
          "output_type": "stream",
          "name": "stdout",
          "text": [
            "Raio de convergência está contido no intervalo [-1/2,1/2].\n",
            "----------------------------------------------------------------------------------------------------\n"
          ]
        },
        {
          "output_type": "display_data",
          "data": {
            "image/png": "[encoded data removed]",
            "text/latex": "$\\displaystyle \\sum_{n=0}^{\\infty} \\frac{z^{2 n + 1}}{\\left(2 n + 1\\right)!}$",
            "text/plain": [
              "  ∞             \n",
              " ____           \n",
              " ╲              \n",
              "  ╲     2⋅n + 1 \n",
              "   ╲   z        \n",
              "   ╱  ──────────\n",
              "  ╱   (2⋅n + 1)!\n",
              " ╱              \n",
              " ‾‾‾‾           \n",
              "n = 0           "
            ]
          },
          "metadata": {}
        },
        {
          "output_type": "stream",
          "name": "stdout",
          "text": [
            "Raio de convergência é igual à infinito. Converge para todo z c C\n",
            "----------------------------------------------------------------------------------------------------\n"
          ]
        }
      ],
      "source": [
        "print('-'*100)\n",
        "for i in list_series:\n",
        "    raio_convergencia(i)\n",
        "    print('-'*100)"
      ]
    },
    {
      "cell_type": "code",
      "execution_count": null,
      "id": "8104bd16",
      "metadata": {
        "colab": {
          "base_uri": "https://localhost:8080/",
          "height": 86
        },
        "id": "8104bd16",
        "outputId": "69ee6cde-9df3-4b45-8256-f02cc6b5e9c9"
      },
      "outputs": [
        {
          "output_type": "display_data",
          "data": {
            "image/png": "[encoded data removed]",
            "text/latex": "$\\displaystyle \\sum_{n=0}^{\\infty} \\frac{\\left(50000 + 400 i\\right)^{n}}{n!}$",
            "text/plain": [
              "  ∞                   \n",
              " ____                 \n",
              " ╲                    \n",
              "  ╲                  n\n",
              "   ╲  (50000 + 400⋅ⅈ) \n",
              "   ╱  ────────────────\n",
              "  ╱          n!       \n",
              " ╱                    \n",
              " ‾‾‾‾                 \n",
              "n = 0                 "
            ]
          },
          "metadata": {}
        },
        {
          "output_type": "execute_result",
          "data": {
            "image/png": "[encoded data removed]",
            "text/latex": "$\\displaystyle 0$",
            "text/plain": [
              "0"
            ]
          },
          "metadata": {},
          "execution_count": 20
        }
      ],
      "source": [
        "zn4 = '(50000+400*sqrt(-1))**n/factorial(n)'\n",
        "display(Sum(eval(zn4), (n, 0, oo)))\n",
        "zn4_ = zn4.replace('n','(n+1)') \n",
        "expr1 = eval(zn4)\n",
        "expr2 = expr2 = eval(zn4_)\n",
        "teste_razao = simplify(abs(expr2/expr1))\n",
        "lim =  limit(teste_razao, n, oo)\n",
        "lim"
      ]
    },
    {
      "cell_type": "markdown",
      "id": "a5c955ec",
      "metadata": {
        "id": "a5c955ec"
      },
      "source": [
        "## Série de Taylor\n",
        "### Expansão em série de Taylor de uma função:"
      ]
    },
    {
      "cell_type": "markdown",
      "id": "347e9c37",
      "metadata": {
        "id": "347e9c37"
      },
      "source": [
        "<script type=\"text/javascript\" src=\"http://cdn.mathjax.org/mathjax/latest/MathJax.js?config=default\"></script>\n",
        "Seja $f = f(z)$ uma função arbitrária,\n",
        "contínua e suave. Gostaríamos de estudar o comportamento desta função em\n",
        "torno de um certo ponto fixo, digamos $z = z_0$. Naturalmente o valor da função\n",
        "no ponto $z = z_0$ é $f(z_0)$. Queremos saber como o valor da função varia quando\n",
        "$z = z_0 + ε$, onde $ε = δz ≡ z − z_0$ é uma quantidade bem pequena."
      ]
    },
    {
      "cell_type": "markdown",
      "id": "23b82f19",
      "metadata": {
        "id": "23b82f19"
      },
      "source": [
        "<script type=\"text/javascript\" src=\"http://cdn.mathjax.org/mathjax/latest/MathJax.js?config=default\"></script>\n",
        "$$ \\sum_{n=0}^{\\infty} a_{n}\\cdot \\dfrac{f^{(n)}(z_0)}{n!}(z-z_{0})^n$$"
      ]
    },
    {
      "cell_type": "markdown",
      "id": "240b064f",
      "metadata": {
        "id": "240b064f"
      },
      "source": [
        "<script type=\"text/javascript\" src=\"http://cdn.mathjax.org/mathjax/latest/MathJax.js?config=default\"></script>\n",
        "Ex:\\\n",
        "Expansão em série de potências de $x$ da função $sen(x)$ no ponto $x = 0$\n",
        "* $f(0) = sen(0) = 0$\n",
        "* $f´(0) = cos(0) = 1$ \n",
        "* $f´´(0) = -sen(0) = 0$\n",
        "* $f´´´(0) = -cos(0) = -1$\\\n",
        "Ou seja, começando em 0, apenas em valores impares de n existe o termo.\\\n",
        "Aplicando a expansão por série de taylor em $z_0 = 0$, para n = 5, um polinômio de grau 5 têm-se:"
      ]
    },
    {
      "cell_type": "markdown",
      "id": "a104320d",
      "metadata": {
        "id": "a104320d"
      },
      "source": [
        "<script type=\"text/javascript\" src=\"http://cdn.mathjax.org/mathjax/latest/MathJax.js?config=default\"></script>\n",
        "$$P_5 = x - \\frac{x^3}{3!} + \\frac{x^5}{5!}$$"
      ]
    },
    {
      "cell_type": "code",
      "execution_count": null,
      "id": "dee613d5",
      "metadata": {
        "id": "dee613d5"
      },
      "outputs": [],
      "source": [
        "x = Symbol('x')\n",
        "f = sin(x) #  f(x) = sen(x)"
      ]
    },
    {
      "cell_type": "code",
      "execution_count": null,
      "id": "8cdfe631",
      "metadata": {
        "id": "8cdfe631"
      },
      "outputs": [],
      "source": [
        "# Sobescrevendo a fução factorial\n",
        "def factorial(n):\n",
        "    if n <= 0:\n",
        "        return 1\n",
        "    else:\n",
        "        return n*factorial(n-1)"
      ]
    },
    {
      "cell_type": "code",
      "execution_count": null,
      "id": "bcf2295e",
      "metadata": {
        "id": "bcf2295e"
      },
      "outputs": [],
      "source": [
        "# Aproximação de Taylor em z = x0 -- Reais\n",
        "def taylor(function,x0,n):\n",
        "    i = 0\n",
        "    p = 0\n",
        "    while i <= n:\n",
        "        p = p + (function.diff(x,i).subs(x,x0))/(factorial(i))*(x-x0)**i\n",
        "        i += 1\n",
        "    return p"
      ]
    },
    {
      "cell_type": "code",
      "execution_count": null,
      "id": "f9567511",
      "metadata": {
        "colab": {
          "base_uri": "https://localhost:8080/",
          "height": 882
        },
        "id": "f9567511",
        "outputId": "919dc419-a11d-4412-f359-f4e896d6b319"
      },
      "outputs": [
        {
          "output_type": "stream",
          "name": "stdout",
          "text": [
            "n=1\n"
          ]
        },
        {
          "output_type": "display_data",
          "data": {
            "image/png": "[encoded data removed]",
            "text/latex": "$\\displaystyle x$",
            "text/plain": [
              "x"
            ]
          },
          "metadata": {}
        },
        {
          "output_type": "stream",
          "name": "stdout",
          "text": [
            "n=3\n"
          ]
        },
        {
          "output_type": "display_data",
          "data": {
            "image/png": "[encoded data removed]",
            "text/latex": "$\\displaystyle - \\frac{x^{3}}{6} + x$",
            "text/plain": [
              "   3    \n",
              "  x     \n",
              "- ── + x\n",
              "  6     "
            ]
          },
          "metadata": {}
        },
        {
          "output_type": "stream",
          "name": "stdout",
          "text": [
            "n=5\n"
          ]
        },
        {
          "output_type": "display_data",
          "data": {
            "image/png": "[encoded data removed]",
            "text/latex": "$\\displaystyle \\frac{x^{5}}{120} - \\frac{x^{3}}{6} + x$",
            "text/plain": [
              "  5    3    \n",
              " x    x     \n",
              "─── - ── + x\n",
              "120   6     "
            ]
          },
          "metadata": {}
        },
        {
          "output_type": "stream",
          "name": "stdout",
          "text": [
            "n=7\n"
          ]
        },
        {
          "output_type": "display_data",
          "data": {
            "image/png": "[encoded data removed]",
            "text/latex": "$\\displaystyle - \\frac{x^{7}}{5040} + \\frac{x^{5}}{120} - \\frac{x^{3}}{6} + x$",
            "text/plain": [
              "    7      5    3    \n",
              "   x      x    x     \n",
              "- ──── + ─── - ── + x\n",
              "  5040   120   6     "
            ]
          },
          "metadata": {}
        },
        {
          "output_type": "stream",
          "name": "stdout",
          "text": [
            "n=9\n"
          ]
        },
        {
          "output_type": "display_data",
          "data": {
            "image/png": "[encoded data removed]",
            "text/latex": "$\\displaystyle \\frac{x^{9}}{362880} - \\frac{x^{7}}{5040} + \\frac{x^{5}}{120} - \\frac{x^{3}}{6} + x$",
            "text/plain": [
              "   9       7      5    3    \n",
              "  x       x      x    x     \n",
              "────── - ──── + ─── - ── + x\n",
              "362880   5040   120   6     "
            ]
          },
          "metadata": {}
        },
        {
          "output_type": "display_data",
          "data": {
            "image/png": "[encoded data removed]",
            "text/plain": [
              "<Figure size 1080x720 with 1 Axes>"
            ]
          },
          "metadata": {
            "needs_background": "light"
          }
        }
      ],
      "source": [
        "def plot():\n",
        "    x_lims = [-5,5]\n",
        "    x1 = np.linspace(x_lims[0],x_lims[1],800)\n",
        "    y1 = []\n",
        "    plt.figure(figsize=(15, 10))\n",
        "    \n",
        "    # Criando as aproximações por expansão de série de Taylor\n",
        "    for j in range(1,10,2): # [1,3,5,7,9]\n",
        "        func = taylor(f,0,j)\n",
        "        print('n='+str(j))\n",
        "        display(func)\n",
        "        for k in x1:\n",
        "            y1.append(func.subs(x,k))\n",
        "        plt.plot(x1,y1,label='Ordem '+str(j))\n",
        "        y1 = []\n",
        "    # Plotando a função aproximada (sen(x))\n",
        "    plt.plot(x1,np.sin(x1),label='sen(x)')\n",
        "    plt.xlim(x_lims)\n",
        "    plt.ylim([-5,5])\n",
        "    plt.xlabel('x')\n",
        "    plt.ylabel('y')\n",
        "    plt.legend()\n",
        "    plt.grid(True)\n",
        "    plt.title('Aproximação por Série de Taylor')\n",
        "    plt.show()\n",
        "\n",
        "plot()"
      ]
    },
    {
      "cell_type": "markdown",
      "id": "cfcdae9d",
      "metadata": {
        "id": "cfcdae9d"
      },
      "source": [
        "### Encontrando o polinônomio por expansão de Taylor da indentidade:\n",
        "$$\\cos(x) = \\frac{e^{iz}+e^{-iz}}{2}$$"
      ]
    },
    {
      "cell_type": "code",
      "execution_count": null,
      "id": "4ef670b3",
      "metadata": {
        "id": "4ef670b3"
      },
      "outputs": [],
      "source": [
        "i, z = symbols('i z')\n",
        "i = sqrt(-1)"
      ]
    },
    {
      "cell_type": "code",
      "execution_count": null,
      "id": "db6ef39b",
      "metadata": {
        "colab": {
          "base_uri": "https://localhost:8080/",
          "height": 165
        },
        "id": "db6ef39b",
        "outputId": "02ef165a-3d9c-4362-9d60-1d879b268fbd"
      },
      "outputs": [
        {
          "output_type": "error",
          "ename": "ValueError",
          "evalue": "ignored",
          "traceback": [
            "\u001b[0;31m---------------------------------------------------------------------------\u001b[0m",
            "\u001b[0;31mValueError\u001b[0m                                Traceback (most recent call last)",
            "\u001b[0;32m<ipython-input-22-58fbe2d97e13>\u001b[0m in \u001b[0;36m<module>\u001b[0;34m()\u001b[0m\n\u001b[0;32m----> 1\u001b[0;31m \u001b[0mmath\u001b[0m\u001b[0;34m.\u001b[0m\u001b[0mcos\u001b[0m\u001b[0;34m(\u001b[0m\u001b[0mmath\u001b[0m\u001b[0;34m.\u001b[0m\u001b[0msqrt\u001b[0m\u001b[0;34m(\u001b[0m\u001b[0;34m-\u001b[0m\u001b[0;36m1\u001b[0m\u001b[0;34m)\u001b[0m\u001b[0;34m)\u001b[0m\u001b[0;34m\u001b[0m\u001b[0;34m\u001b[0m\u001b[0m\n\u001b[0m",
            "\u001b[0;31mValueError\u001b[0m: math domain error"
          ]
        }
      ],
      "source": [
        "math.cos(math.sqrt(-1))"
      ]
    },
    {
      "cell_type": "code",
      "execution_count": null,
      "id": "6bf3a5b7",
      "metadata": {
        "id": "6bf3a5b7"
      },
      "outputs": [],
      "source": [
        "# Aproximação de Taylor em z = z0 -- Complexos\n",
        "def taylor_com(function,z0,n):\n",
        "    cont = 0\n",
        "    p = 0\n",
        "    while cont <= n:\n",
        "        p = p + (function.diff(z,cont).subs(z,z0))/(factorial(cont))*(z-z0)**cont\n",
        "        cont += 1\n",
        "    return p"
      ]
    },
    {
      "cell_type": "code",
      "execution_count": null,
      "id": "2fc8986b",
      "metadata": {
        "colab": {
          "base_uri": "https://localhost:8080/",
          "height": 61
        },
        "id": "2fc8986b",
        "outputId": "cd8e7d3a-dfd3-43cf-d442-8b10e3e229bb"
      },
      "outputs": [
        {
          "output_type": "display_data",
          "data": {
            "image/png": "[encoded data removed]",
            "text/latex": "$\\displaystyle e^{i z}$",
            "text/plain": [
              " ⅈ⋅z\n",
              "ℯ   "
            ]
          },
          "metadata": {}
        },
        {
          "output_type": "display_data",
          "data": {
            "image/png": "[encoded data removed]",
            "text/latex": "$\\displaystyle e^{- i z}$",
            "text/plain": [
              " -ⅈ⋅z\n",
              "ℯ    "
            ]
          },
          "metadata": {}
        }
      ],
      "source": [
        "f1 = exp(z*i)\n",
        "f2 = exp(z*-i)\n",
        "display(f1,f2)"
      ]
    },
    {
      "cell_type": "code",
      "execution_count": null,
      "id": "567efc54",
      "metadata": {
        "colab": {
          "base_uri": "https://localhost:8080/",
          "height": 90
        },
        "id": "567efc54",
        "outputId": "12ff40a6-aac2-49e1-8e6a-452f0fc756dd"
      },
      "outputs": [
        {
          "output_type": "display_data",
          "data": {
            "image/png": "[encoded data removed]",
            "text/latex": "$\\displaystyle - \\frac{z^{10}}{3628800} + \\frac{i z^{9}}{362880} + \\frac{z^{8}}{40320} - \\frac{i z^{7}}{5040} - \\frac{z^{6}}{720} + \\frac{i z^{5}}{120} + \\frac{z^{4}}{24} - \\frac{i z^{3}}{6} - \\frac{z^{2}}{2} + i z + 1$",
            "text/plain": [
              "     10         9       8       7     6      5    4      3    2          \n",
              "    z        ⅈ⋅z       z     ⅈ⋅z     z    ⅈ⋅z    z    ⅈ⋅z    z           \n",
              "- ─────── + ────── + ───── - ──── - ─── + ──── + ── - ──── - ── + ⅈ⋅z + 1\n",
              "  3628800   362880   40320   5040   720   120    24    6     2           "
            ]
          },
          "metadata": {}
        },
        {
          "output_type": "display_data",
          "data": {
            "image/png": "[encoded data removed]",
            "text/latex": "$\\displaystyle - \\frac{z^{10}}{3628800} - \\frac{i z^{9}}{362880} + \\frac{z^{8}}{40320} + \\frac{i z^{7}}{5040} - \\frac{z^{6}}{720} - \\frac{i z^{5}}{120} + \\frac{z^{4}}{24} + \\frac{i z^{3}}{6} - \\frac{z^{2}}{2} - i z + 1$",
            "text/plain": [
              "     10         9       8       7     6      5    4      3    2          \n",
              "    z        ⅈ⋅z       z     ⅈ⋅z     z    ⅈ⋅z    z    ⅈ⋅z    z           \n",
              "- ─────── - ────── + ───── + ──── - ─── - ──── + ── + ──── - ── - ⅈ⋅z + 1\n",
              "  3628800   362880   40320   5040   720   120    24    6     2           "
            ]
          },
          "metadata": {}
        }
      ],
      "source": [
        "pl1 = taylor_com(f1,0,10)\n",
        "pl2 = taylor_com(f2,0,10)\n",
        "display(pl1,pl2)"
      ]
    },
    {
      "cell_type": "code",
      "execution_count": null,
      "id": "2a9b3af5",
      "metadata": {
        "colab": {
          "base_uri": "https://localhost:8080/",
          "height": 54
        },
        "id": "2a9b3af5",
        "outputId": "68ccb18f-8ee3-4077-a574-87315c90189f"
      },
      "outputs": [
        {
          "output_type": "execute_result",
          "data": {
            "image/png": "[encoded data removed]",
            "text/latex": "$\\displaystyle - \\frac{z^{10}}{3628800} + \\frac{z^{8}}{40320} - \\frac{z^{6}}{720} + \\frac{z^{4}}{24} - \\frac{z^{2}}{2} + 1$",
            "text/plain": [
              "     10        8      6    4    2    \n",
              "    z         z      z    z    z     \n",
              "- ─────── + ───── - ─── + ── - ── + 1\n",
              "  3628800   40320   720   24   2     "
            ]
          },
          "metadata": {},
          "execution_count": 27
        }
      ],
      "source": [
        "res = (pl1+pl2)/2\n",
        "res"
      ]
    },
    {
      "cell_type": "code",
      "execution_count": null,
      "id": "34af6bce",
      "metadata": {
        "colab": {
          "base_uri": "https://localhost:8080/"
        },
        "id": "34af6bce",
        "outputId": "0e5a17bc-53f2-4f32-f20c-c5c76806703a"
      },
      "outputs": [
        {
          "output_type": "execute_result",
          "data": {
            "text/plain": [
              "(1.5430806348152437+0j)"
            ]
          },
          "metadata": {},
          "execution_count": 28
        }
      ],
      "source": [
        "complex(cos(i))"
      ]
    },
    {
      "cell_type": "code",
      "execution_count": null,
      "id": "a4836c3e",
      "metadata": {
        "colab": {
          "base_uri": "https://localhost:8080/"
        },
        "id": "a4836c3e",
        "outputId": "94941583-0c22-4795-8517-6df8768456d8"
      },
      "outputs": [
        {
          "output_type": "execute_result",
          "data": {
            "text/plain": [
              "(1.5430806327160493+0j)"
            ]
          },
          "metadata": {},
          "execution_count": 29
        }
      ],
      "source": [
        "complex(res.subs(z,i))"
      ]
    },
    {
      "cell_type": "code",
      "execution_count": null,
      "id": "9cf41aed",
      "metadata": {
        "colab": {
          "base_uri": "https://localhost:8080/",
          "height": 38
        },
        "id": "9cf41aed",
        "outputId": "4b5e18c2-9643-4f10-a8ee-a86d18320eff"
      },
      "outputs": [
        {
          "output_type": "execute_result",
          "data": {
            "image/png": "[encoded data removed]",
            "text/latex": "$\\displaystyle 8.14632804690922$",
            "text/plain": [
              "8.146328046909224"
            ]
          },
          "metadata": {},
          "execution_count": 41
        }
      ],
      "source": [
        "a = i\n",
        "a = 4+4*i\n",
        "\n",
        "100*abs(complex(cos(a))-complex(res.subs(z,a)))/(abs(complex(cos(a))))"
      ]
    },
    {
      "cell_type": "markdown",
      "id": "0525bc7b",
      "metadata": {
        "id": "0525bc7b"
      },
      "source": [
        "# FIM!"
      ]
    }
  ],
  "metadata": {
    "kernelspec": {
      "display_name": "Python 3",
      "language": "python",
      "name": "python3"
    },
    "language_info": {
      "codemirror_mode": {
        "name": "ipython",
        "version": 3
      },
      "file_extension": ".py",
      "mimetype": "text/x-python",
      "name": "python",
      "nbconvert_exporter": "python",
      "pygments_lexer": "ipython3",
      "version": "3.8.8"
    },
    "colab": {
      "provenance": []
    }
  },
  "nbformat": 4,
  "nbformat_minor": 5
}